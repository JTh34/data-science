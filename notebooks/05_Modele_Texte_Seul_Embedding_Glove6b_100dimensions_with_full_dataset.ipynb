{
 "cells": [
  {
   "cell_type": "code",
   "execution_count": 2,
   "id": "6d2d8333",
   "metadata": {},
   "outputs": [],
   "source": [
    "import tensorflow as tf\n",
    "import numpy as np\n",
    "import matplotlib.pyplot as plt\n",
    "import pandas as pd\n",
    "import os\n",
    "\n",
    "import nltk\n",
    "\n",
    "import gensim\n",
    "from gensim import corpora, downloader\n",
    "from gensim.utils import simple_preprocess\n",
    "from gensim.models import Word2Vec\n",
    "\n",
    "import warnings\n",
    "warnings.filterwarnings('ignore')"
   ]
  },
  {
   "cell_type": "code",
   "execution_count": 3,
   "id": "dd4e44c3",
   "metadata": {},
   "outputs": [],
   "source": [
    "all_data = pd.read_csv(\"../data/X_train_update.csv\", index_col='Unnamed: 0')\n",
    "target = pd.read_csv(\"../data/Y_train_CVw08PX.csv\", index_col='Unnamed: 0')"
   ]
  },
  {
   "cell_type": "code",
   "execution_count": 4,
   "id": "e9fa2225",
   "metadata": {},
   "outputs": [
    {
     "data": {
      "text/html": [
       "<div>\n",
       "<style scoped>\n",
       "    .dataframe tbody tr th:only-of-type {\n",
       "        vertical-align: middle;\n",
       "    }\n",
       "\n",
       "    .dataframe tbody tr th {\n",
       "        vertical-align: top;\n",
       "    }\n",
       "\n",
       "    .dataframe thead th {\n",
       "        text-align: right;\n",
       "    }\n",
       "</style>\n",
       "<table border=\"1\" class=\"dataframe\">\n",
       "  <thead>\n",
       "    <tr style=\"text-align: right;\">\n",
       "      <th></th>\n",
       "      <th>designation</th>\n",
       "      <th>description</th>\n",
       "      <th>productid</th>\n",
       "      <th>imageid</th>\n",
       "    </tr>\n",
       "  </thead>\n",
       "  <tbody>\n",
       "    <tr>\n",
       "      <th>0</th>\n",
       "      <td>Olivia: Personalisiertes Notizbuch / 150 Seite...</td>\n",
       "      <td>NaN</td>\n",
       "      <td>3804725264</td>\n",
       "      <td>1263597046</td>\n",
       "    </tr>\n",
       "    <tr>\n",
       "      <th>1</th>\n",
       "      <td>Journal Des Arts (Le) N° 133 Du 28/09/2001 - L...</td>\n",
       "      <td>NaN</td>\n",
       "      <td>436067568</td>\n",
       "      <td>1008141237</td>\n",
       "    </tr>\n",
       "    <tr>\n",
       "      <th>2</th>\n",
       "      <td>Grand Stylet Ergonomique Bleu Gamepad Nintendo...</td>\n",
       "      <td>PILOT STYLE Touch Pen de marque Speedlink est ...</td>\n",
       "      <td>201115110</td>\n",
       "      <td>938777978</td>\n",
       "    </tr>\n",
       "    <tr>\n",
       "      <th>3</th>\n",
       "      <td>Peluche Donald - Europe - Disneyland 2000 (Mar...</td>\n",
       "      <td>NaN</td>\n",
       "      <td>50418756</td>\n",
       "      <td>457047496</td>\n",
       "    </tr>\n",
       "    <tr>\n",
       "      <th>4</th>\n",
       "      <td>La Guerre Des Tuques</td>\n",
       "      <td>Luc a des id&amp;eacute;es de grandeur. Il veut or...</td>\n",
       "      <td>278535884</td>\n",
       "      <td>1077757786</td>\n",
       "    </tr>\n",
       "  </tbody>\n",
       "</table>\n",
       "</div>"
      ],
      "text/plain": [
       "                                         designation  \\\n",
       "0  Olivia: Personalisiertes Notizbuch / 150 Seite...   \n",
       "1  Journal Des Arts (Le) N° 133 Du 28/09/2001 - L...   \n",
       "2  Grand Stylet Ergonomique Bleu Gamepad Nintendo...   \n",
       "3  Peluche Donald - Europe - Disneyland 2000 (Mar...   \n",
       "4                               La Guerre Des Tuques   \n",
       "\n",
       "                                         description   productid     imageid  \n",
       "0                                                NaN  3804725264  1263597046  \n",
       "1                                                NaN   436067568  1008141237  \n",
       "2  PILOT STYLE Touch Pen de marque Speedlink est ...   201115110   938777978  \n",
       "3                                                NaN    50418756   457047496  \n",
       "4  Luc a des id&eacute;es de grandeur. Il veut or...   278535884  1077757786  "
      ]
     },
     "execution_count": 4,
     "metadata": {},
     "output_type": "execute_result"
    }
   ],
   "source": [
    "all_data.head()"
   ]
  },
  {
   "cell_type": "code",
   "execution_count": 5,
   "id": "d22b7e45",
   "metadata": {},
   "outputs": [],
   "source": [
    "sentences = all_data['designation']"
   ]
  },
  {
   "cell_type": "code",
   "execution_count": 6,
   "id": "0eee1238",
   "metadata": {},
   "outputs": [
    {
     "data": {
      "text/plain": [
       "0    Olivia: Personalisiertes Notizbuch / 150 Seite...\n",
       "1    Journal Des Arts (Le) N° 133 Du 28/09/2001 - L...\n",
       "2    Grand Stylet Ergonomique Bleu Gamepad Nintendo...\n",
       "3    Peluche Donald - Europe - Disneyland 2000 (Mar...\n",
       "4                                 La Guerre Des Tuques\n",
       "Name: designation, dtype: object"
      ]
     },
     "execution_count": 6,
     "metadata": {},
     "output_type": "execute_result"
    }
   ],
   "source": [
    "sentences.head()"
   ]
  },
  {
   "cell_type": "code",
   "execution_count": 7,
   "id": "d5ee9f43",
   "metadata": {},
   "outputs": [],
   "source": [
    "tokens = [simple_preprocess(sent, min_len = 3) for sent in sentences]"
   ]
  },
  {
   "cell_type": "code",
   "execution_count": 8,
   "id": "ddec66ae",
   "metadata": {},
   "outputs": [
    {
     "name": "stdout",
     "output_type": "stream",
     "text": [
      "84916\n",
      "['mer', 'les', 'marins', 'scènes', 'maritimes']\n"
     ]
    }
   ],
   "source": [
    "print(len(tokens))\n",
    "print(tokens[150])"
   ]
  },
  {
   "cell_type": "code",
   "execution_count": 9,
   "id": "f6850751",
   "metadata": {},
   "outputs": [],
   "source": [
    "dictionary = corpora.Dictionary(tokens)"
   ]
  },
  {
   "cell_type": "code",
   "execution_count": 10,
   "id": "eaa2b0d6",
   "metadata": {},
   "outputs": [
    {
     "name": "stdout",
     "output_type": "stream",
     "text": [
      "nombre de phrases traitées : 84916\n",
      "nombre de mots traités : 696547\n"
     ]
    }
   ],
   "source": [
    "print(\"nombre de phrases traitées :\", dictionary.num_docs)\n",
    "print(\"nombre de mots traités :\", dictionary.num_pos)"
   ]
  },
  {
   "cell_type": "code",
   "execution_count": 11,
   "id": "a59edccc",
   "metadata": {},
   "outputs": [
    {
     "name": "stdout",
     "output_type": "stream",
     "text": [
      "taille du dictionnaire : 60866 mots\n"
     ]
    }
   ],
   "source": [
    "print(\"taille du dictionnaire : {} mots\".format(len(dictionary)))"
   ]
  },
  {
   "cell_type": "code",
   "execution_count": 12,
   "id": "36966d73",
   "metadata": {},
   "outputs": [
    {
     "name": "stdout",
     "output_type": "stream",
     "text": [
      "taille maximum des sequences de tokens : 33\n"
     ]
    }
   ],
   "source": [
    "size_tokens = map(lambda x:len(x),tokens)\n",
    "\n",
    "max_len = max(size_tokens)\n",
    "\n",
    "print(\"taille maximum des sequences de tokens :\", max_len )"
   ]
  },
  {
   "cell_type": "code",
   "execution_count": 13,
   "id": "7fdec45a",
   "metadata": {},
   "outputs": [],
   "source": [
    "embeddings_index = {}\n",
    "\n",
    "f = open(\"../data/glove/glove.6B.100d.txt\")\n",
    "\n",
    "for line in f :\n",
    "    values = line.split()\n",
    "    word = values[0]\n",
    "    coeffs = np.asarray(values[1:], dtype = 'float32')\n",
    "    embeddings_index[word] = coeffs \n",
    "f.close()"
   ]
  },
  {
   "cell_type": "code",
   "execution_count": 14,
   "id": "4a70380e",
   "metadata": {},
   "outputs": [],
   "source": [
    "sort_dictionary = sorted(dictionary.cfs.items(), key = lambda t : -t[1])\n",
    "\n",
    "words = [dictionary[t[0]] for t in sort_dictionary]"
   ]
  },
  {
   "cell_type": "code",
   "execution_count": 15,
   "id": "7a3dcd15",
   "metadata": {},
   "outputs": [],
   "source": [
    "# création de la matrice d'embedding sur 100 dimensions pour les 10 000 mots les plus fréquents\n",
    "embedding_dim = 100\n",
    "max_words = len(dictionary)+1 # on prend tout le dicitonnaire ici\n",
    "\n",
    "embedding_matrix = np.zeros((max_words,embedding_dim))\n",
    "\n",
    "for  i, word in enumerate(words) :\n",
    "    if i < max_words :\n",
    "        embedding_vector = embeddings_index.get(word)\n",
    "    \n",
    "    if  embedding_vector is not None :\n",
    "        embedding_matrix[i] = embedding_vector"
   ]
  },
  {
   "cell_type": "code",
   "execution_count": 16,
   "id": "643b9313",
   "metadata": {},
   "outputs": [
    {
     "data": {
      "text/plain": [
       "(60867, 100)"
      ]
     },
     "execution_count": 16,
     "metadata": {},
     "output_type": "execute_result"
    }
   ],
   "source": [
    "embedding_matrix.shape"
   ]
  },
  {
   "cell_type": "code",
   "execution_count": 17,
   "id": "06fd3abb",
   "metadata": {},
   "outputs": [
    {
     "data": {
      "text/html": [
       "<div>\n",
       "<style scoped>\n",
       "    .dataframe tbody tr th:only-of-type {\n",
       "        vertical-align: middle;\n",
       "    }\n",
       "\n",
       "    .dataframe tbody tr th {\n",
       "        vertical-align: top;\n",
       "    }\n",
       "\n",
       "    .dataframe thead th {\n",
       "        text-align: right;\n",
       "    }\n",
       "</style>\n",
       "<table border=\"1\" class=\"dataframe\">\n",
       "  <thead>\n",
       "    <tr style=\"text-align: right;\">\n",
       "      <th></th>\n",
       "      <th>sequence</th>\n",
       "      <th>class</th>\n",
       "    </tr>\n",
       "  </thead>\n",
       "  <tbody>\n",
       "    <tr>\n",
       "      <th>0</th>\n",
       "      <td>[olivia, notizbuch, seiten, punktraster, din, ...</td>\n",
       "      <td>10</td>\n",
       "    </tr>\n",
       "    <tr>\n",
       "      <th>1</th>\n",
       "      <td>[journal, des, arts, art, son, marche, salon, ...</td>\n",
       "      <td>2280</td>\n",
       "    </tr>\n",
       "    <tr>\n",
       "      <th>2</th>\n",
       "      <td>[grand, stylet, ergonomique, bleu, gamepad, ni...</td>\n",
       "      <td>50</td>\n",
       "    </tr>\n",
       "    <tr>\n",
       "      <th>3</th>\n",
       "      <td>[peluche, donald, europe, disneyland, marionne...</td>\n",
       "      <td>1280</td>\n",
       "    </tr>\n",
       "    <tr>\n",
       "      <th>4</th>\n",
       "      <td>[guerre, des, tuques]</td>\n",
       "      <td>2705</td>\n",
       "    </tr>\n",
       "  </tbody>\n",
       "</table>\n",
       "</div>"
      ],
      "text/plain": [
       "                                            sequence  class\n",
       "0  [olivia, notizbuch, seiten, punktraster, din, ...     10\n",
       "1  [journal, des, arts, art, son, marche, salon, ...   2280\n",
       "2  [grand, stylet, ergonomique, bleu, gamepad, ni...     50\n",
       "3  [peluche, donald, europe, disneyland, marionne...   1280\n",
       "4                              [guerre, des, tuques]   2705"
      ]
     },
     "execution_count": 17,
     "metadata": {},
     "output_type": "execute_result"
    }
   ],
   "source": [
    "data = pd.Series(tokens)\n",
    "data = pd.concat([data,target['prdtypecode']], axis =1)\n",
    "data = data.rename(columns={ 0 : 'sequence','prdtypecode':'class' })\n",
    "data.head()"
   ]
  },
  {
   "cell_type": "code",
   "execution_count": 18,
   "id": "25e0bd8b",
   "metadata": {},
   "outputs": [],
   "source": [
    "# transformation des séquences de mots en séquence d'id\n",
    "seq = list(data['sequence'])\n",
    "\n",
    "id_seq = [dictionary.doc2idx(t) for t in seq]\n",
    "\n",
    "# padding des séquences de mot du df à 33\n",
    "from keras.utils import pad_sequences\n",
    "\n",
    "id_seq_pad = pad_sequences(id_seq , maxlen =  max_len, padding = 'post')"
   ]
  },
  {
   "cell_type": "code",
   "execution_count": 19,
   "id": "71e96617",
   "metadata": {},
   "outputs": [
    {
     "data": {
      "text/plain": [
       "(84916, 33)"
      ]
     },
     "execution_count": 19,
     "metadata": {},
     "output_type": "execute_result"
    }
   ],
   "source": [
    "id_seq_pad.shape"
   ]
  },
  {
   "cell_type": "code",
   "execution_count": 20,
   "id": "28067f59",
   "metadata": {},
   "outputs": [],
   "source": [
    "target = pd.Series(target['prdtypecode'])"
   ]
  },
  {
   "cell_type": "code",
   "execution_count": 21,
   "id": "5536cf11",
   "metadata": {},
   "outputs": [],
   "source": [
    "# Split train /test 80/20\n",
    "from sklearn.model_selection import train_test_split\n",
    "\n",
    "X_train, X_test, y_train, y_test = train_test_split(id_seq_pad, target, test_size=0.2, random_state = 0, stratify = target) "
   ]
  },
  {
   "cell_type": "code",
   "execution_count": 22,
   "id": "8da08223",
   "metadata": {},
   "outputs": [],
   "source": [
    "# split test /valid 80/20\n",
    "X_train, X_valid, y_train, y_valid = train_test_split(X_train, y_train, test_size=0.2, random_state = 0, stratify = y_train) "
   ]
  },
  {
   "cell_type": "code",
   "execution_count": 23,
   "id": "123ba41a",
   "metadata": {},
   "outputs": [],
   "source": [
    "from sklearn import preprocessing\n",
    "\n",
    "label_encoder = preprocessing.LabelEncoder()\n",
    "\n",
    "y_train_label = label_encoder.fit_transform(y_train.to_numpy())\n",
    "y_test_label = label_encoder.transform(y_test.to_numpy())\n",
    "y_valid_label = label_encoder.transform(y_valid.to_numpy())"
   ]
  },
  {
   "cell_type": "code",
   "execution_count": 26,
   "id": "249e4abb",
   "metadata": {},
   "outputs": [],
   "source": [
    "from keras.models import Sequential\n",
    "from keras.layers import Embedding , Flatten, Dense, MaxPooling2D, Conv2D, Dropout\n",
    "\n",
    "n_class = 27\n",
    "\n",
    "# Création du modèle de classification\n",
    "model = Sequential()\n",
    "model.add(Embedding(input_dim = max_words, \n",
    "                    output_dim = embedding_dim, \n",
    "                    weights=[embedding_matrix],\n",
    "                    input_length = max_len))\n",
    "model.add(Flatten())\n",
    "model.add(Dense(n_class, activation='softmax'))"
   ]
  },
  {
   "cell_type": "code",
   "execution_count": 27,
   "id": "5e716990",
   "metadata": {},
   "outputs": [
    {
     "name": "stdout",
     "output_type": "stream",
     "text": [
      "Model: \"sequential_1\"\n",
      "_________________________________________________________________\n",
      " Layer (type)                Output Shape              Param #   \n",
      "=================================================================\n",
      " embedding_1 (Embedding)     (None, 33, 100)           6086700   \n",
      "                                                                 \n",
      " flatten_1 (Flatten)         (None, 3300)              0         \n",
      "                                                                 \n",
      " dense_1 (Dense)             (None, 27)                89127     \n",
      "                                                                 \n",
      "=================================================================\n",
      "Total params: 6,175,827\n",
      "Trainable params: 6,175,827\n",
      "Non-trainable params: 0\n",
      "_________________________________________________________________\n"
     ]
    }
   ],
   "source": [
    "model.summary()"
   ]
  },
  {
   "cell_type": "code",
   "execution_count": 28,
   "id": "b7e59efa",
   "metadata": {},
   "outputs": [],
   "source": [
    "model.compile(optimizer= 'adam', \n",
    "              loss = 'sparse_categorical_crossentropy',\n",
    "              metrics=['accuracy'])"
   ]
  },
  {
   "cell_type": "code",
   "execution_count": 29,
   "id": "9162a08d",
   "metadata": {},
   "outputs": [],
   "source": [
    "from tensorflow.keras import callbacks\n",
    "\n",
    "# Instanciation du callback \n",
    "checkpoint = callbacks.ModelCheckpoint(filepath = \"../data/checkpoint_text_embedding\",\n",
    "                                       monitor = 'val_loss',\n",
    "                                       save_best_only = True,\n",
    "                                       save_weights_only = True,\n",
    "                                       mode = 'min',\n",
    "                                       save_freq = 'epoch')"
   ]
  },
  {
   "cell_type": "code",
   "execution_count": 30,
   "id": "70778117",
   "metadata": {},
   "outputs": [
    {
     "name": "stdout",
     "output_type": "stream",
     "text": [
      "Epoch 1/10\n",
      "1699/1699 [==============================] - 324s 190ms/step - loss: 1.8032 - accuracy: 0.5061 - val_loss: 1.1948 - val_accuracy: 0.6654\n",
      "Epoch 2/10\n",
      "1699/1699 [==============================] - 314s 185ms/step - loss: 0.7815 - accuracy: 0.7785 - val_loss: 0.8801 - val_accuracy: 0.7469\n",
      "Epoch 3/10\n",
      "1699/1699 [==============================] - 310s 182ms/step - loss: 0.4207 - accuracy: 0.8839 - val_loss: 0.8228 - val_accuracy: 0.7661\n",
      "Epoch 4/10\n",
      "1699/1699 [==============================] - 308s 181ms/step - loss: 0.2252 - accuracy: 0.9424 - val_loss: 0.8345 - val_accuracy: 0.7711\n",
      "Epoch 5/10\n",
      "1699/1699 [==============================] - 326s 192ms/step - loss: 0.1203 - accuracy: 0.9711 - val_loss: 0.8781 - val_accuracy: 0.7673\n",
      "Epoch 6/10\n",
      "1699/1699 [==============================] - 326s 192ms/step - loss: 0.0696 - accuracy: 0.9841 - val_loss: 0.9306 - val_accuracy: 0.7660\n",
      "Epoch 7/10\n",
      "1699/1699 [==============================] - 322s 189ms/step - loss: 0.0440 - accuracy: 0.9901 - val_loss: 0.9862 - val_accuracy: 0.7636\n",
      "Epoch 8/10\n",
      "1699/1699 [==============================] - 317s 186ms/step - loss: 0.0330 - accuracy: 0.9919 - val_loss: 1.0335 - val_accuracy: 0.7640\n",
      "Epoch 9/10\n",
      "1699/1699 [==============================] - 308s 182ms/step - loss: 0.0275 - accuracy: 0.9929 - val_loss: 1.0904 - val_accuracy: 0.7601\n",
      "Epoch 10/10\n",
      "1699/1699 [==============================] - 251s 148ms/step - loss: 0.0236 - accuracy: 0.9938 - val_loss: 1.1295 - val_accuracy: 0.7643\n"
     ]
    }
   ],
   "source": [
    "# entrainement du modèle\n",
    "history = model.fit(X_train, y_train_label,\n",
    "                    epochs = 10,\n",
    "                    batch_size = 32,\n",
    "                    validation_data = (X_valid,y_valid_label),\n",
    "                    callbacks = [checkpoint])"
   ]
  },
  {
   "cell_type": "code",
   "execution_count": 57,
   "id": "4be48b22",
   "metadata": {},
   "outputs": [
    {
     "name": "stdout",
     "output_type": "stream",
     "text": [
      "INFO:tensorflow:Assets written to: ram://60d07c49-67b8-4818-b1f1-6c6397d8016a/assets\n",
      "INFO:tensorflow:Assets written to: ram://6333e9fc-2f0c-4e14-b677-d6b5fb893b7b/assets\n"
     ]
    },
    {
     "data": {
      "text/plain": [
       "['../models/model_texte_embedding_100.pkl']"
      ]
     },
     "execution_count": 57,
     "metadata": {},
     "output_type": "execute_result"
    }
   ],
   "source": [
    "from joblib import dump, load\n",
    "\n",
    "dump(model, \"../models/model_texte_embedding_100.joblib\")\n",
    "dump(model, \"../models/model_texte_embedding_100.pkl\")\n"
   ]
  },
  {
   "cell_type": "code",
   "execution_count": 32,
   "id": "8734a535",
   "metadata": {},
   "outputs": [
    {
     "name": "stdout",
     "output_type": "stream",
     "text": [
      "531/531 [==============================] - 1s 1ms/step - loss: 1.1506 - accuracy: 0.7661\n"
     ]
    },
    {
     "data": {
      "text/plain": [
       "[1.150564432144165, 0.7661328315734863]"
      ]
     },
     "execution_count": 32,
     "metadata": {},
     "output_type": "execute_result"
    }
   ],
   "source": [
    "model.evaluate(X_test, y_test_label)"
   ]
  },
  {
   "cell_type": "code",
   "execution_count": 58,
   "id": "edfeffdf",
   "metadata": {},
   "outputs": [],
   "source": [
    "\n",
    "\n",
    "model_test = load( \"../models/model_texte_embedding_100.joblib\")"
   ]
  },
  {
   "cell_type": "code",
   "execution_count": 59,
   "id": "22ea4c6f",
   "metadata": {},
   "outputs": [
    {
     "name": "stdout",
     "output_type": "stream",
     "text": [
      "531/531 [==============================] - 1s 1ms/step - loss: 1.1506 - accuracy: 0.7661\n"
     ]
    },
    {
     "data": {
      "text/plain": [
       "[1.150564432144165, 0.7661328315734863]"
      ]
     },
     "execution_count": 59,
     "metadata": {},
     "output_type": "execute_result"
    }
   ],
   "source": [
    "model_test.evaluate(X_test, y_test_label)"
   ]
  },
  {
   "cell_type": "code",
   "execution_count": 33,
   "id": "113b5754",
   "metadata": {},
   "outputs": [],
   "source": [
    "# Récupération de l'accuray \n",
    "acc = history.history['accuracy']\n",
    "val_acc = history.history['val_accuracy']"
   ]
  },
  {
   "cell_type": "code",
   "execution_count": 34,
   "id": "c3ef1692",
   "metadata": {},
   "outputs": [],
   "source": [
    "epochs = range(1, len(acc)+1)"
   ]
  },
  {
   "cell_type": "code",
   "execution_count": 35,
   "id": "5b3d2d59",
   "metadata": {},
   "outputs": [
    {
     "data": {
      "image/png": "[encoded data removed]",
      "text/plain": [
       "<Figure size 800x500 with 1 Axes>"
      ]
     },
     "metadata": {},
     "output_type": "display_data"
    }
   ],
   "source": [
    "plt.figure(figsize = (8,5))\n",
    "plt.xlabel(\"Epochs\")\n",
    "plt.ylabel(\"Accuracy\")\n",
    "plt.title(\"Modèle avec Glove 6B 100d\")\n",
    "\n",
    "plt.plot(epochs,acc, \"b--\", label = \"Training\" )\n",
    "plt.plot(epochs,val_acc,\"b\",label = \"Validation \")\n",
    "\n",
    "plt.legend();"
   ]
  },
  {
   "cell_type": "code",
   "execution_count": null,
   "id": "5231cfea",
   "metadata": {},
   "outputs": [],
   "source": []
  }
 ],
 "metadata": {
  "kernelspec": {
   "display_name": "Python 3 (ipykernel)",
   "language": "python",
   "name": "python3"
  },
  "language_info": {
   "codemirror_mode": {
    "name": "ipython",
    "version": 3
   },
   "file_extension": ".py",
   "mimetype": "text/x-python",
   "name": "python",
   "nbconvert_exporter": "python",
   "pygments_lexer": "ipython3",
   "version": "3.10.9"
  }
 },
 "nbformat": 4,
 "nbformat_minor": 5
}
