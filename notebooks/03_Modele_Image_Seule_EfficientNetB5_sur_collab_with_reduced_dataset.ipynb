{
 "cells": [
  {
   "cell_type": "code",
   "execution_count": null,
   "metadata": {
    "id": "UHHrIxJStFKQ"
   },
   "outputs": [],
   "source": [
    "import numpy as np\n",
    "import matplotlib.pyplot as plt\n",
    "import pandas as pd\n",
    "import os\n",
    "%matplotlib inline\n",
    "\n",
    "from tensorflow.keras.layers import Dense, Dropout, Flatten, GlobalAveragePooling2D, BatchNormalization\n",
    "from tensorflow.keras.optimizers import Adam\n",
    "from tensorflow.keras.models import Model, Sequential\n",
    "from tensorflow.keras.preprocessing.image import ImageDataGenerator\n",
    "\n",
    "from tensorflow.keras.applications.efficientnet import EfficientNetB5,preprocess_input\n",
    "\n",
    "from sklearn import metrics\n",
    "\n",
    "from joblib import dump, load"
   ]
  },
  {
   "cell_type": "code",
   "execution_count": null,
   "metadata": {
    "id": "Oc0T-OlpmpxT"
   },
   "outputs": [],
   "source": [
    "# affectation de la variable d'environnement\n",
    "environnement_collab = True"
   ]
  },
  {
   "cell_type": "markdown",
   "metadata": {
    "id": "2f1ubBFjnd3d"
   },
   "source": [
    "## Définiton des chemins selon la plateforme Jupyter/Colab"
   ]
  },
  {
   "cell_type": "code",
   "execution_count": null,
   "metadata": {
    "colab": {
     "base_uri": "https://localhost:8080/"
    },
    "id": "ZGHvblkF_9yf",
    "outputId": "2efaf60d-eb0c-4cb0-a986-1ab803eb8c19"
   },
   "outputs": [
    {
     "name": "stdout",
     "output_type": "stream",
     "text": [
      "Mounted at /content/drive\n"
     ]
    }
   ],
   "source": [
    "if environnement_collab == True :\n",
    "    # accès à Google Drive\n",
    "    from google.colab import drive\n",
    "    drive.mount('/content/drive')\n",
    "    # chemin pour accéder aux DataFrame sur collab\n",
    "    path = '/content/drive/MyDrive/Collab_Rakuten/data'\n",
    "    \n",
    "    # chemin pour pour accéder aux répertoire contenant les images d'entrainement/validaiton/test sur collab\n",
    "    train_dir = '/content/drive/MyDrive/Collab_Rakuten/data/images_generator/train'\n",
    "    test_dir = '/content/drive/MyDrive/Collab_Rakuten/data/images_generator/test'\n",
    "    valid_dir = '/content/drive/MyDrive/Collab_Rakuten/data/images_generator/valid'\n",
    "\n",
    "else :\n",
    "    # chemin pour accéder aux DataFrame en local\n",
    "    path = '../data/'\n",
    "    # chemin pour pour accéder aux répertoire contenant les images d'entrainement/validaiton/test en local\n",
    "    train_dir = \"../data/images/generator/train/\"\n",
    "    test_dir = \"../data/images/generator/test/\"\n",
    "    valid_dir = \"../data/images/generator/valid/\""
   ]
  },
  {
   "cell_type": "code",
   "execution_count": null,
   "metadata": {
    "colab": {
     "base_uri": "https://localhost:8080/"
    },
    "id": "Zz8t3w-lJJGz",
    "outputId": "0e129cff-7515-463b-a04a-d95ee2e3cc6c"
   },
   "outputs": [
    {
     "name": "stdout",
     "output_type": "stream",
     "text": [
      "Drive already mounted at /content/drive; to attempt to forcibly remount, call drive.mount(\"/content/drive\", force_remount=True).\n"
     ]
    }
   ],
   "source": [
    "from google.colab import drive\n",
    "drive.mount('/content/drive')"
   ]
  },
  {
   "cell_type": "code",
   "execution_count": null,
   "metadata": {
    "id": "6dfBclEsaPMz"
   },
   "outputs": [],
   "source": [
    "# Instanciation d'un ImageDataGenerator \n",
    "# Augmentation des données d'entrainement pour eviter le sur-apprentissage\n",
    "train_datagen = ImageDataGenerator(preprocessing_function = preprocess_input,\n",
    "                                   rotation_range = 40,\n",
    "                                   width_shift_range = 0.2,\n",
    "                                   height_shift_range = 0.2,\n",
    "                                   zoom_range = 1.2,\n",
    "                                   horizontal_flip = True)\n",
    "\n",
    "valid_datagen = ImageDataGenerator(preprocessing_function = preprocess_input,)\n",
    "\n",
    "test_datagen = ImageDataGenerator(preprocessing_function = preprocess_input)"
   ]
  },
  {
   "cell_type": "code",
   "execution_count": null,
   "metadata": {
    "colab": {
     "base_uri": "https://localhost:8080/"
    },
    "id": "DFMWwzM5anB_",
    "outputId": "f8994c2b-ca45-4180-be23-1fa9b23a43d6"
   },
   "outputs": [
    {
     "name": "stdout",
     "output_type": "stream",
     "text": [
      "Found 9510 images belonging to 27 classes.\n",
      "Found 2378 images belonging to 27 classes.\n",
      "Found 5096 images belonging to 27 classes.\n"
     ]
    }
   ],
   "source": [
    "batch_size = 32\n",
    "image_size = 456\n",
    "\n",
    "# Génération des tenseurs en modifiant la taille des images d'entrée\n",
    "train_generator = train_datagen.flow_from_directory(train_dir, \n",
    "                                                    target_size = (image_size,image_size), \n",
    "                                                    batch_size = batch_size,\n",
    "                                                    class_mode =  'sparse')\n",
    "\n",
    "valid_generator = valid_datagen.flow_from_directory(valid_dir,\n",
    "                                                    target_size = (image_size,image_size), \n",
    "                                                    batch_size = batch_size,\n",
    "                                                    class_mode =  'sparse')\n",
    "\n",
    "test_generator = test_datagen.flow_from_directory(test_dir, \n",
    "                                                  target_size = (image_size,image_size), \n",
    "                                                  batch_size = batch_size,\n",
    "                                                  class_mode =  'sparse')"
   ]
  },
  {
   "cell_type": "code",
   "execution_count": null,
   "metadata": {
    "id": "JXXxuchGoOUN"
   },
   "outputs": [],
   "source": [
    "# Nombre de classes en sortie\n",
    "n_class = 27"
   ]
  },
  {
   "cell_type": "code",
   "execution_count": null,
   "metadata": {
    "id": "dNwY5qpssmJF"
   },
   "outputs": [],
   "source": [
    "# tailes des échantillons\n",
    "nb_img_train = train_generator.samples\n",
    "nb_img_test = test_generator.samples"
   ]
  },
  {
   "cell_type": "code",
   "execution_count": null,
   "metadata": {
    "colab": {
     "base_uri": "https://localhost:8080/"
    },
    "id": "6NzoPomcIy54",
    "outputId": "db0d29c7-5435-4486-95f4-af83956d5d96"
   },
   "outputs": [
    {
     "name": "stdout",
     "output_type": "stream",
     "text": [
      "Downloading data from https://storage.googleapis.com/keras-applications/efficientnetb5_notop.h5\n",
      "115263384/115263384 [==============================] - 4s 0us/step\n",
      "Model: \"sequential\"\n",
      "_________________________________________________________________\n",
      " Layer (type)                Output Shape              Param #   \n",
      "=================================================================\n",
      " efficientnetb5 (Functional)  (None, 15, 15, 2048)     28513527  \n",
      "                                                                 \n",
      " global_average_pooling2d (G  (None, 2048)             0         \n",
      " lobalAveragePooling2D)                                          \n",
      "                                                                 \n",
      " dense (Dense)               (None, 27)                55323     \n",
      "                                                                 \n",
      "=================================================================\n",
      "Total params: 28,568,850\n",
      "Trainable params: 5,066,907\n",
      "Non-trainable params: 23,501,943\n",
      "_________________________________________________________________\n"
     ]
    }
   ],
   "source": [
    "# Modèle amélorié en partant des point du modèle 1 (EfficientNet5 avec 5 époque) \n",
    "# Unfreeze des 20 dernières couches en laissant les couches de BatchNormalization\n",
    "# Réduction du learning rate\n",
    "\n",
    "## Chargement de EfficientNetB5\n",
    "effnet_unfreeze = EfficientNetB5(weights='imagenet', \n",
    "                                 include_top= False,\n",
    "                                 input_shape = (image_size,image_size,3)) \n",
    "\n",
    "# Construction du modèle\n",
    "pretrained_model_unfreeze = Sequential()\n",
    "pretrained_model_unfreeze.add(effnet_unfreeze)\n",
    "pretrained_model_unfreeze.add(GlobalAveragePooling2D()) \n",
    "pretrained_model_unfreeze.add(Dense(n_class, activation='softmax'))\n",
    "\n",
    "# On freeze toutes les couches\n",
    "for layer in effnet_unfreeze.layers: \n",
    "    layer.trainable = False\n",
    "\n",
    "# On unfreeze les 20 dernières couches\n",
    "for layer in effnet_unfreeze.layers[-20:]:\n",
    "        if not isinstance(layer, BatchNormalization):\n",
    "            layer.trainable = True\n",
    "    \n",
    "pretrained_model_unfreeze.summary()"
   ]
  },
  {
   "cell_type": "code",
   "execution_count": null,
   "metadata": {
    "id": "WrzxQEcZIy56"
   },
   "outputs": [],
   "source": [
    "pretrained_model_unfreeze.compile(optimizer= 'adam', \n",
    "                                  loss = 'sparse_categorical_crossentropy',\n",
    "                                  metrics=['accuracy'])"
   ]
  },
  {
   "cell_type": "code",
   "execution_count": null,
   "metadata": {
    "colab": {
     "base_uri": "https://localhost:8080/"
    },
    "id": "oVwKs7odIy57",
    "outputId": "4943f19b-5d80-4b1a-e0cc-97720e12410d"
   },
   "outputs": [
    {
     "name": "stdout",
     "output_type": "stream",
     "text": [
      "Epoch 1/10\n",
      "297/297 [==============================] - 5976s 20s/step - loss: 2.3128 - accuracy: 0.3308 - val_loss: 1.6511 - val_accuracy: 0.5094\n",
      "Epoch 2/10\n",
      "297/297 [==============================] - 692s 2s/step - loss: 2.0199 - accuracy: 0.4118 - val_loss: 1.5623 - val_accuracy: 0.5369\n",
      "Epoch 3/10\n",
      "297/297 [==============================] - 689s 2s/step - loss: 1.9493 - accuracy: 0.4238 - val_loss: 1.5448 - val_accuracy: 0.5513\n",
      "Epoch 4/10\n",
      "297/297 [==============================] - 689s 2s/step - loss: 1.8686 - accuracy: 0.4466 - val_loss: 1.5119 - val_accuracy: 0.5572\n",
      "Epoch 5/10\n",
      "297/297 [==============================] - 682s 2s/step - loss: 1.8146 - accuracy: 0.4521 - val_loss: 1.5076 - val_accuracy: 0.5694\n",
      "Epoch 6/10\n",
      "297/297 [==============================] - 686s 2s/step - loss: 1.7598 - accuracy: 0.4739 - val_loss: 1.5034 - val_accuracy: 0.5584\n",
      "Epoch 7/10\n",
      "297/297 [==============================] - 696s 2s/step - loss: 1.7265 - accuracy: 0.4800 - val_loss: 1.4720 - val_accuracy: 0.5822\n",
      "Epoch 8/10\n",
      "297/297 [==============================] - 682s 2s/step - loss: 1.7056 - accuracy: 0.4892 - val_loss: 1.4909 - val_accuracy: 0.5800\n",
      "Epoch 9/10\n",
      "297/297 [==============================] - 688s 2s/step - loss: 1.6691 - accuracy: 0.4991 - val_loss: 1.4860 - val_accuracy: 0.5800\n",
      "Epoch 10/10\n",
      "297/297 [==============================] - 687s 2s/step - loss: 1.6191 - accuracy: 0.5146 - val_loss: 1.4957 - val_accuracy: 0.5729\n"
     ]
    }
   ],
   "source": [
    "# entrainement du modèle\n",
    "history_unfreeze= pretrained_model_unfreeze.fit(train_generator, \n",
    "                                                epochs = 10,\n",
    "                                                steps_per_epoch = nb_img_train//batch_size,\n",
    "                                                validation_data = test_generator,\n",
    "                                                validation_steps = nb_img_test//batch_size)"
   ]
  },
  {
   "cell_type": "code",
   "execution_count": null,
   "metadata": {
    "colab": {
     "base_uri": "https://localhost:8080/"
    },
    "id": "SCqlcby_Iy58",
    "outputId": "f8d0b4f9-4088-48e7-cb9f-29b781f448fa"
   },
   "outputs": [
    {
     "data": {
      "text/plain": [
       "['/content/drive/MyDrive/Collab_Rakuten/data/model_image_effb5_fine.pkl']"
      ]
     },
     "execution_count": 12,
     "metadata": {},
     "output_type": "execute_result"
    }
   ],
   "source": [
    "\n",
    "\n",
    "dump(pretrained_model_unfreeze, \"/content/drive/MyDrive/Collab_Rakuten/data/model_image_effb5_fine.pkl\")"
   ]
  },
  {
   "cell_type": "code",
   "execution_count": null,
   "metadata": {
    "id": "10kwFt_ROl1d"
   },
   "outputs": [],
   "source": [
    "pretrained_model_unfreeze.save_weights(\"/content/drive/MyDrive/Collab_Rakuten/data/model_image_effb5_fine_weights.h5\")"
   ]
  },
  {
   "cell_type": "code",
   "execution_count": null,
   "metadata": {
    "id": "mmjsL7D5RcGU"
   },
   "outputs": [],
   "source": [
    "# Récupération de l'accuray \n",
    "acc = history_unfreeze.history['accuracy']\n",
    "val_acc = history_unfreeze.history['val_accuracy']\n",
    "loss = history_unfreeze.history['loss']\n",
    "val_loss = history_unfreeze.history['val_loss']"
   ]
  },
  {
   "cell_type": "code",
   "execution_count": null,
   "metadata": {
    "colab": {
     "base_uri": "https://localhost:8080/"
    },
    "id": "U0rRc6htRbxI",
    "outputId": "cc8a6919-6242-4307-c64a-66e29b70c3d9"
   },
   "outputs": [
    {
     "name": "stdout",
     "output_type": "stream",
     "text": [
      "160/160 [==============================] - 81s 507ms/step - loss: 1.4962 - accuracy: 0.5726\n",
      "Accuracy - Modèle EfficentB5 : 0.5726059675216675\n"
     ]
    }
   ],
   "source": [
    "# Evalutation des modèles sur des données qu'ils n'ont jamais vus\n",
    "score_b5_unfreeze = pretrained_model_unfreeze.evaluate(test_generator)\n",
    "\n",
    "print(\"Accuracy - Modèle EfficentB5 :\", score_b5_unfreeze[1])"
   ]
  },
  {
   "cell_type": "code",
   "execution_count": null,
   "metadata": {
    "id": "kZ919qIgIy6A"
   },
   "outputs": [],
   "source": [
    "epochs = range(1, len(acc)+1)"
   ]
  },
  {
   "cell_type": "code",
   "execution_count": null,
   "metadata": {
    "colab": {
     "base_uri": "https://localhost:8080/",
     "height": 487
    },
    "id": "Rq2iLSktIy6B",
    "outputId": "e9d0b425-b179-4567-e117-da7706793698"
   },
   "outputs": [
    {
     "data": {
      "image/png": "[encoded data removed]",
      "text/plain": [
       "<Figure size 1000x500 with 2 Axes>"
      ]
     },
     "metadata": {},
     "output_type": "display_data"
    }
   ],
   "source": [
    "plt.figure(figsize = (10,5))\n",
    "plt.subplot(121)\n",
    "plt.xlabel(\"Epochs\")\n",
    "plt.ylabel(\"Loss\")\n",
    "plt.title(\"Fonction de perte pendant l\\'entrainement et la validation\")\n",
    "\n",
    "plt.plot(epochs,loss, \"--\", label = \"Training\" )\n",
    "plt.plot(epochs,val_loss,\"-\",label = \"Validation \")\n",
    "\n",
    "plt.subplot(122)\n",
    "plt.xlabel(\"Epochs\")\n",
    "plt.ylabel(\"Accuracy\")\n",
    "plt.title(\"Exactitude pendant l\\'entrainement et la validation\")\n",
    "\n",
    "plt.plot(epochs,acc, \"--\", label = \"Training\" )\n",
    "plt.plot(epochs,val_acc,\"-\",label = \"Validation \")\n",
    "plt.legend();"
   ]
  }
 ],
 "metadata": {
  "accelerator": "GPU",
  "colab": {
   "gpuType": "V100",
   "provenance": []
  },
  "gpuClass": "standard",
  "kernelspec": {
   "display_name": "Python 3 (ipykernel)",
   "language": "python",
   "name": "python3"
  },
  "language_info": {
   "codemirror_mode": {
    "name": "ipython",
    "version": 3
   },
   "file_extension": ".py",
   "mimetype": "text/x-python",
   "name": "python",
   "nbconvert_exporter": "python",
   "pygments_lexer": "ipython3",
   "version": "3.9.12"
  }
 },
 "nbformat": 4,
 "nbformat_minor": 1
}
